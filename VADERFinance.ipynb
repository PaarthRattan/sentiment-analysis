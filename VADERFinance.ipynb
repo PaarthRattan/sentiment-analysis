{
 "cells": [
  {
   "cell_type": "markdown",
   "id": "d44ba956-e436-4967-a024-e50624eddc7b",
   "metadata": {},
   "source": [
    "# "
   ]
  },
  {
   "cell_type": "code",
   "execution_count": 31,
   "id": "bd47f0e3-7513-4168-a6fd-b02c4a6e9383",
   "metadata": {},
   "outputs": [],
   "source": [
    "import pandas as pd\n",
    "import numpy as np\n",
    "import matplotlib.pyplot as plt\n",
    "import seaborn as sns\n",
    "\n",
    "plt.style.use('ggplot')\n",
    "\n",
    "import nltk\n"
   ]
  },
  {
   "cell_type": "code",
   "execution_count": 32,
   "id": "52bdad6b-d7ef-4e7a-8935-f378db04c3de",
   "metadata": {},
   "outputs": [
    {
     "name": "stdout",
     "output_type": "stream",
     "text": [
      "(5842, 2)\n",
      "(5000, 2)\n"
     ]
    }
   ],
   "source": [
    "df = pd.read_csv('data.csv')\n",
    "print(df.shape)\n",
    "df = df.head(5000)\n",
    "print(df.shape)"
   ]
  },
  {
   "cell_type": "code",
   "execution_count": 33,
   "id": "237390e3-7690-49f2-92c3-b41a7f2dd77a",
   "metadata": {},
   "outputs": [
    {
     "data": {
      "text/html": [
       "<div>\n",
       "<style scoped>\n",
       "    .dataframe tbody tr th:only-of-type {\n",
       "        vertical-align: middle;\n",
       "    }\n",
       "\n",
       "    .dataframe tbody tr th {\n",
       "        vertical-align: top;\n",
       "    }\n",
       "\n",
       "    .dataframe thead th {\n",
       "        text-align: right;\n",
       "    }\n",
       "</style>\n",
       "<table border=\"1\" class=\"dataframe\">\n",
       "  <thead>\n",
       "    <tr style=\"text-align: right;\">\n",
       "      <th></th>\n",
       "      <th>Sentence</th>\n",
       "      <th>Sentiment</th>\n",
       "    </tr>\n",
       "  </thead>\n",
       "  <tbody>\n",
       "    <tr>\n",
       "      <th>0</th>\n",
       "      <td>The GeoSolutions technology will leverage Bene...</td>\n",
       "      <td>positive</td>\n",
       "    </tr>\n",
       "    <tr>\n",
       "      <th>1</th>\n",
       "      <td>$ESI on lows, down $1.50 to $2.50 BK a real po...</td>\n",
       "      <td>negative</td>\n",
       "    </tr>\n",
       "    <tr>\n",
       "      <th>2</th>\n",
       "      <td>For the last quarter of 2010 , Componenta 's n...</td>\n",
       "      <td>positive</td>\n",
       "    </tr>\n",
       "    <tr>\n",
       "      <th>3</th>\n",
       "      <td>According to the Finnish-Russian Chamber of Co...</td>\n",
       "      <td>neutral</td>\n",
       "    </tr>\n",
       "    <tr>\n",
       "      <th>4</th>\n",
       "      <td>The Swedish buyout firm has sold its remaining...</td>\n",
       "      <td>neutral</td>\n",
       "    </tr>\n",
       "  </tbody>\n",
       "</table>\n",
       "</div>"
      ],
      "text/plain": [
       "                                            Sentence Sentiment\n",
       "0  The GeoSolutions technology will leverage Bene...  positive\n",
       "1  $ESI on lows, down $1.50 to $2.50 BK a real po...  negative\n",
       "2  For the last quarter of 2010 , Componenta 's n...  positive\n",
       "3  According to the Finnish-Russian Chamber of Co...   neutral\n",
       "4  The Swedish buyout firm has sold its remaining...   neutral"
      ]
     },
     "execution_count": 33,
     "metadata": {},
     "output_type": "execute_result"
    }
   ],
   "source": [
    "df.head()\n"
   ]
  },
  {
   "cell_type": "code",
   "execution_count": 34,
   "id": "8782719e-f60a-4ffc-9ddb-41bd3793a9a6",
   "metadata": {},
   "outputs": [
    {
     "data": {
      "image/png": "[encoded data removed]",
      "text/plain": [
       "<Figure size 800x500 with 1 Axes>"
      ]
     },
     "metadata": {},
     "output_type": "display_data"
    }
   ],
   "source": [
    "# Create a bar plot\n",
    "plt.figure(figsize=(8, 5))\n",
    "sns.countplot(data=df, x='Sentiment', palette='Set2')\n",
    "plt.title('Count of Reviews by Sentiment (Finance tweets)')\n",
    "plt.xlabel('Sentiment')\n",
    "plt.ylabel('Count')\n",
    "\n",
    "# Annotate the bars with counts\n",
    "for p in plt.gca().patches:\n",
    "    plt.gca().annotate(f\"{int(p.get_height())}\", (p.get_x() + p.get_width() / 2., p.get_height()), ha='center', va='bottom')\n",
    "\n",
    "plt.show()"
   ]
  },
  {
   "cell_type": "code",
   "execution_count": 36,
   "id": "71c3abeb-b8c3-484e-9f37-009d81a3818b",
   "metadata": {},
   "outputs": [
    {
     "name": "stdout",
     "output_type": "stream",
     "text": [
      "Stockmann and Swedish sector company AB Lindex entered into an agreement on September 30 , 2007 , whereby Stockmann , or a wholly-owned subsidiary of it , will make a public tender offer for all of Lindex 's issued shares .\n"
     ]
    }
   ],
   "source": [
    "example = df['Sentence'][30]\n",
    "print(example)"
   ]
  },
  {
   "cell_type": "code",
   "execution_count": 39,
   "id": "b1fb721c-91b3-45d7-9b00-eb1a5e305e42",
   "metadata": {},
   "outputs": [
    {
     "name": "stdout",
     "output_type": "stream",
     "text": [
      "0\n",
      "0\n"
     ]
    }
   ],
   "source": [
    "# Add the code you provided\n",
    "df = df.replace(r'^\\s*$', float('NaN'), regex=True)\n",
    "df = df.dropna()\n",
    "X = df['Sentence']\n",
    "y = df['Sentiment']\n",
    "print(X.isna().sum())\n",
    "print(y.isna().sum())"
   ]
  },
  {
   "cell_type": "code",
   "execution_count": 40,
   "id": "4f5b7d6e-67d6-469b-996d-17f11ec7a653",
   "metadata": {},
   "outputs": [],
   "source": [
    "#data processing\n",
    "import re, string\n",
    "import emoji\n",
    "import nltk\n",
    "\n",
    "from tqdm.notebook import tqdm\n",
    "from sklearn import preprocessing\n",
    "from imblearn.over_sampling import RandomOverSampler\n",
    "from sklearn.model_selection import train_test_split#data processing"
   ]
  },
  {
   "cell_type": "code",
   "execution_count": 41,
   "id": "5b65e9c8-dfb8-4014-9383-f9b98fe327ec",
   "metadata": {},
   "outputs": [],
   "source": [
    "def clean(text):\n",
    "    text = re.sub('https?://\\S+|www\\.\\S+', '', text)\n",
    "    text = re.sub(r'\\s+', ' ', text, flags=re.I)\n",
    "    text = re.sub('\\[.*?\\]', '', text)\n",
    "    text = re.sub('\\n', '', text)\n",
    "    text = re.sub('\\w*\\d\\w*', '', text)\n",
    "    text = re.sub('<.*?>+', '', text)\n",
    "    return text"
   ]
  },
  {
   "cell_type": "code",
   "execution_count": 43,
   "id": "c4589bcf-eb53-460d-96ca-46e50ca1c105",
   "metadata": {},
   "outputs": [],
   "source": [
    "#clean hashtags at the end of the sentence, and keep those in the middle of the sentence by removing just the # symbol\n",
    "def clean_hashtags(tweet):\n",
    "    new_tweet = \" \".join(word.strip() for word in re.split('#(?!(?:hashtag)\\b)[\\w-]+(?=(?:\\s+#[\\w-]+)*\\s*$)', tweet)) #remove last hashtags\n",
    "    new_tweet2 = \" \".join(word.strip() for word in re.split('#|_', new_tweet)) #remove hashtags symbol from words in the middle of the sentence\n",
    "    return new_tweet2"
   ]
  },
  {
   "cell_type": "code",
   "execution_count": 44,
   "id": "0cc986a2-4e03-43f4-883c-2015f50661dc",
   "metadata": {},
   "outputs": [],
   "source": [
    "def remove_mult_spaces(text): # remove multiple spaces\n",
    "    return re.sub(\"\\s\\s+\" , \" \", text)"
   ]
  },
  {
   "cell_type": "code",
   "execution_count": 46,
   "id": "157c4b10-e440-4134-aba5-9e04887890eb",
   "metadata": {},
   "outputs": [],
   "source": [
    "texts_new = []\n",
    "for t in df.Sentence:\n",
    "    if pd.notna(t):  # Check if 't' is not NaN\n",
    "        #cleaned_text = remove_mult_spaces(filter_chars(clean_hashtags(strip_all_entities(str(t)))))\n",
    "        cleaned_text = remove_mult_spaces(clean(clean_hashtags(str(t))))\n",
    "        texts_new.append(cleaned_text)\n",
    "    else:\n",
    "        texts_new.append(\"\")  # Replace NaN with an empty string\n"
   ]
  },
  {
   "cell_type": "code",
   "execution_count": 48,
   "id": "39e2b2a0-8d82-416e-bb25-f8e3b4a69666",
   "metadata": {},
   "outputs": [],
   "source": [
    "df['text_cleaned'] = texts_new"
   ]
  },
  {
   "cell_type": "code",
   "execution_count": 49,
   "id": "78c12965-0e05-4408-b2f9-947adadbd8dd",
   "metadata": {},
   "outputs": [],
   "source": [
    "text_len = []\n",
    "for text in df.text_cleaned:\n",
    "    tweet_len = len(text.split())\n",
    "    text_len.append(tweet_len)"
   ]
  },
  {
   "cell_type": "code",
   "execution_count": 50,
   "id": "a30b9ca1-c08d-4e06-8c68-97964f4128e6",
   "metadata": {},
   "outputs": [],
   "source": [
    "df['text_len'] = text_len"
   ]
  },
  {
   "cell_type": "code",
   "execution_count": 51,
   "id": "8b672a72-b9fc-430c-aa5e-486a258bb4f8",
   "metadata": {},
   "outputs": [
    {
     "data": {
      "image/png": "[encoded data removed]",
      "text/plain": [
       "<Figure size 700x500 with 1 Axes>"
      ]
     },
     "metadata": {},
     "output_type": "display_data"
    }
   ],
   "source": [
    "plt.figure(figsize=(7,5))\n",
    "ax = sns.countplot(x='text_len', data=df[df['text_len']<10], palette='mako')\n",
    "plt.title('Training tweets with less than 10 words')\n",
    "plt.yticks([])\n",
    "ax.bar_label(ax.containers[0])\n",
    "plt.ylabel('count')\n",
    "plt.xlabel('')\n",
    "plt.show()"
   ]
  },
  {
   "cell_type": "code",
   "execution_count": 52,
   "id": "ec5ba7d5-0a4b-43c3-b18d-943addc9c6f6",
   "metadata": {},
   "outputs": [],
   "source": [
    "# Function to count words in a text\n",
    "def count_words(text):\n",
    "    words = text.split()\n",
    "    return len(words)\n",
    "\n",
    "# Apply the function to the 'Sentence' column and store the word counts in a new column\n",
    "df['Word_Count'] = df['text_cleaned'].apply(count_words)\n",
    "\n",
    "\n",
    "    "
   ]
  },
  {
   "cell_type": "code",
   "execution_count": 54,
   "id": "ba36a171-3dde-4f50-be02-1b84e00ad428",
   "metadata": {},
   "outputs": [
    {
     "name": "stdout",
     "output_type": "stream",
     "text": [
      " DF SHAPE: (5000, 5)\n"
     ]
    }
   ],
   "source": [
    "print(f\" DF SHAPE: {df.shape}\")"
   ]
  },
  {
   "cell_type": "code",
   "execution_count": 55,
   "id": "5b0d73bb-e487-405b-be6a-f21da76a1f2d",
   "metadata": {},
   "outputs": [],
   "source": [
    "df = df[df['text_len'] > 4]"
   ]
  },
  {
   "cell_type": "code",
   "execution_count": 56,
   "id": "1cce7e4f-a823-44c8-ae64-66f0e9a2ed80",
   "metadata": {},
   "outputs": [
    {
     "name": "stdout",
     "output_type": "stream",
     "text": [
      " DF SHAPE: (4950, 5)\n"
     ]
    }
   ],
   "source": [
    "print(f\" DF SHAPE: {df.shape}\")"
   ]
  },
  {
   "cell_type": "code",
   "execution_count": 58,
   "id": "8380e8ef-1bf8-4acd-a797-2f2e03f2d419",
   "metadata": {},
   "outputs": [
    {
     "data": {
      "application/vnd.jupyter.widget-view+json": {
       "model_id": "939fcfc73fd44d2c9fa53a5ec3077d04",
       "version_major": 2,
       "version_minor": 0
      },
      "text/plain": [
       "  0%|          | 0/4950 [00:00<?, ?it/s]"
      ]
     },
     "metadata": {},
     "output_type": "display_data"
    },
    {
     "name": "stdout",
     "output_type": "stream",
     "text": [
      "Positive F1 Score: 0.7041884816753926\n",
      "Neutral F1 Score: 0.7378888322284549\n",
      "Negative F1 Score: 0.9315778113533348\n",
      "Positive Sentiments Count: 2260\n",
      "Neutral Sentiments Count: 2056\n",
      "Negative Sentiments Count: 634\n"
     ]
    },
    {
     "data": {
      "image/png": "[encoded data removed]",
      "text/plain": [
       "<Figure size 800x600 with 1 Axes>"
      ]
     },
     "metadata": {},
     "output_type": "display_data"
    }
   ],
   "source": [
    "from nltk.sentiment.vader import SentimentIntensityAnalyzer\n",
    "from sklearn.metrics import f1_score, accuracy_score\n",
    "from tqdm.notebook import tqdm\n",
    "import pandas as pd\n",
    "import matplotlib.pyplot as plt\n",
    "\n",
    "# Define a function to calculate sentiment scores and labels\n",
    "def calculate_sentiment(text):\n",
    "    analyzer = SentimentIntensityAnalyzer()\n",
    "    sentiment = analyzer.polarity_scores(text)\n",
    "    compound_score = sentiment['compound']\n",
    "    \n",
    "    if compound_score >= 0.1:\n",
    "        return 1  # Positive sentiment\n",
    "    elif compound_score <= -0.1:\n",
    "        return -1  # Negative sentiment\n",
    "    else:\n",
    "        return 0  # Neutral sentiment\n",
    "\n",
    "# Assuming you have already loaded the 'df' DataFrame and cleaned 'text' as 'texts_new'\n",
    "\n",
    "# Calculate sentiment scores and labels for 'texts_new'\n",
    "#sentiment_labels = [calculate_sentiment(text) for text in tqdm(texts_new)]\n",
    "sentiment_labels = [calculate_sentiment(text) for text in tqdm(df['Sentence'])]\n",
    "# Add sentiment labels to the DataFrame 'df'\n",
    "df['sentiment'] = sentiment_labels\n",
    "\n",
    "# Calculate F1 scores\n",
    "positive_f1 = f1_score(df['sentiment'] == 'Positive', df['sentiment'] == 1, average='weighted')\n",
    "neutral_f1 = f1_score(df['sentiment'] == 'Neutral', df['sentiment'] == 0, average='weighted')\n",
    "negative_f1 = f1_score(df['sentiment'] == 'Negative', df['sentiment'] == -1, average='weighted')\n",
    "\n",
    "print(\"Positive F1 Score:\", positive_f1)\n",
    "print(\"Neutral F1 Score:\", neutral_f1)\n",
    "print(\"Negative F1 Score:\", negative_f1)\n",
    "\n",
    "# Print the counts of positive, neutral, and negative sentiments\n",
    "positive_count = (df['sentiment'] == 1).sum()\n",
    "neutral_count = (df['sentiment'] == 0).sum()\n",
    "negative_count = (df['sentiment'] == -1).sum()\n",
    "\n",
    "print(\"Positive Sentiments Count:\", positive_count)\n",
    "print(\"Neutral Sentiments Count:\", neutral_count)\n",
    "print(\"Negative Sentiments Count:\", negative_count)\n",
    "\n",
    "# Calculate accuracy for each sentiment category\n",
    "positive_accuracy = accuracy_score(df['sentiment'] == 'Positive', df['sentiment'] == 1)\n",
    "neutral_accuracy = accuracy_score(df['sentiment'] == 'Neutral', df['sentiment'] == 0)\n",
    "negative_accuracy = accuracy_score(df['sentiment'] == 'Negative', df['sentiment'] == -1)\n",
    "\n",
    "\n",
    "\n",
    "# Create a bar plot to visualize accuracy\n",
    "categories = ['Positive', 'Neutral', 'Negative']\n",
    "accuracies = [positive_accuracy, neutral_accuracy, negative_accuracy]\n",
    "\n",
    "plt.figure(figsize=(8, 6))\n",
    "plt.bar(categories, accuracies, color=['green', 'blue', 'red'])\n",
    "plt.xlabel('Sentiment Category')\n",
    "plt.ylabel('Accuracy')\n",
    "plt.title('Accuracy of Sentiment Analysis Model')\n",
    "plt.ylim(0, 1)  # Set the y-axis limits between 0 and 1\n",
    "plt.show()\n",
    "\n",
    "\n"
   ]
  },
  {
   "cell_type": "code",
   "execution_count": 60,
   "id": "5beac391-3b33-4305-bb88-832aca18243f",
   "metadata": {},
   "outputs": [
    {
     "name": "stdout",
     "output_type": "stream",
     "text": [
      "Negative Sentiment:\n",
      " F1 Score: 0.9315778113533348\n",
      " Recall: 0.8719191919191919\n",
      " Precision: 1.0\n",
      " Accuracy: 0.8719191919191919\n",
      "\n",
      "Neutral Sentiment:\n",
      " F1 Score: 0.7378888322284549\n",
      " Recall: 0.5846464646464646\n",
      " Precision: 1.0\n",
      " Accuracy: 0.5846464646464646\n",
      "\n",
      "Positive Sentiment:\n",
      " F1 Score: 0.7041884816753926\n",
      " Recall: 0.5434343434343434\n",
      " Precision: 1.0\n",
      " Accuracy: 0.5434343434343434\n",
      "\n"
     ]
    },
    {
     "name": "stderr",
     "output_type": "stream",
     "text": [
      "C:\\Users\\paart\\AppData\\Local\\Programs\\Python\\Python311\\Lib\\site-packages\\sklearn\\metrics\\_classification.py:1469: UndefinedMetricWarning: Recall is ill-defined and being set to 0.0 in labels with no true samples. Use `zero_division` parameter to control this behavior.\n",
      "  _warn_prf(average, modifier, msg_start, len(result))\n",
      "C:\\Users\\paart\\AppData\\Local\\Programs\\Python\\Python311\\Lib\\site-packages\\sklearn\\metrics\\_classification.py:1469: UndefinedMetricWarning: Recall is ill-defined and being set to 0.0 in labels with no true samples. Use `zero_division` parameter to control this behavior.\n",
      "  _warn_prf(average, modifier, msg_start, len(result))\n",
      "C:\\Users\\paart\\AppData\\Local\\Programs\\Python\\Python311\\Lib\\site-packages\\sklearn\\metrics\\_classification.py:1469: UndefinedMetricWarning: Recall is ill-defined and being set to 0.0 in labels with no true samples. Use `zero_division` parameter to control this behavior.\n",
      "  _warn_prf(average, modifier, msg_start, len(result))\n"
     ]
    }
   ],
   "source": [
    "from nltk.sentiment.vader import SentimentIntensityAnalyzer\n",
    "from sklearn.metrics import f1_score, accuracy_score, recall_score, precision_score\n",
    "import pandas as pd\n",
    "import matplotlib.pyplot as plt\n",
    "\n",
    "# Define a function to calculate sentiment scores and labels\n",
    "def calculate_sentiment(text):\n",
    "    analyzer = SentimentIntensityAnalyzer()\n",
    "    sentiment = analyzer.polarity_scores(text)\n",
    "    compound_score = sentiment['compound']\n",
    "    \n",
    "    if compound_score >= 0.1:\n",
    "        return 1  # Positive sentiment\n",
    "    elif compound_score <= -0.1:\n",
    "        return -1  # Negative sentiment\n",
    "    else:\n",
    "        return 0  # Neutral sentiment\n",
    "\n",
    "# Assuming you have already loaded the 'df' DataFrame and cleaned 'text' as 'texts_new'\n",
    "# Example:\n",
    "# sentiment_labels = [calculate_sentiment(text) for text in texts_new]\n",
    "\n",
    "sentiment_labels = [calculate_sentiment(text) for text in df['Sentence']]\n",
    "df['sentiment'] = sentiment_labels\n",
    "\n",
    "# The true labels need to be converted to match the predicted labels (integers, not strings)\n",
    "# Assuming true labels are stored in df['TrueSentiment'] and also encoded as -1, 0, 1\n",
    "true_labels = df['Sentiment']  # Adjust this line as per your DataFrame\n",
    "\n",
    "# Calculate F1 scores, recall, and precision for each sentiment\n",
    "metrics = {}\n",
    "for label, sentiment in zip([-1, 0, 1], ['Negative', 'Neutral', 'Positive']):\n",
    "    metrics[sentiment] = {\n",
    "        'F1 Score': f1_score(true_labels == label, df['sentiment'] == label, average='weighted'),\n",
    "        'Recall': recall_score(true_labels == label, df['sentiment'] == label, average='weighted'),\n",
    "        'Precision': precision_score(true_labels == label, df['sentiment'] == label, average='weighted'),\n",
    "        'Accuracy': accuracy_score(true_labels == label, df['sentiment'] == label)\n",
    "    }\n",
    "\n",
    "# Print the calculated metrics\n",
    "for sentiment, scores in metrics.items():\n",
    "    print(f\"{sentiment} Sentiment:\")\n",
    "    for metric, score in scores.items():\n",
    "        print(f\" {metric}: {score}\")\n",
    "    print()  # Newline for better readability\n",
    "\n",
    "# You can adapt the bar plot visualization to include recall and precision as needed.\n"
   ]
  },
  {
   "cell_type": "code",
   "execution_count": null,
   "id": "86058758-98e7-4ee0-a8d6-d3208914c6df",
   "metadata": {},
   "outputs": [],
   "source": [
    "# Convert labels in y to numerical values\n",
    "y_numerical = y.apply(lambda x: -1 if x == 'negative' else 1)\n",
    "\n",
    "# Calculate accuracy and F1-score\n",
    "accu_score_vader = accuracy_score(y_numerical, score_vader)\n",
    "print(\"Accuracy of VADER:\", accu_score_vader)\n",
    "\n",
    "f1_score_vader = f1_score(y_numerical, score_vader)\n",
    "\n",
    "print(\"F1-score VADER: \", f1_score_vader)\n",
    "# Calculate the actual number of positive and negative reviews\n",
    "actual_positive = (y_numerical == 1).sum()\n",
    "actual_negative = (y_numerical == -1).sum()\n",
    "\n",
    "# Calculate the VADER results\n",
    "vader_positive = (score_vader == 1).sum()\n",
    "vader_negative = (score_vader == -1).sum()\n",
    "\n",
    "# Create a DataFrame to store the results\n",
    "data = {\n",
    "    'sentiment': ['Positive', 'Negative'],\n",
    "    'Actual': [actual_positive, actual_negative],\n",
    "    'VADER': [vader_positive, vader_negative],\n",
    "}\n",
    "\n",
    "# Convert the DataFrame to a format suitable for plotting\n",
    "comparison_df = pd.DataFrame(data)\n",
    "comparison_df.set_index('sentiment', inplace=True)\n",
    "# Display the comparison table\n",
    "comparison_df"
   ]
  },
  {
   "cell_type": "code",
   "execution_count": null,
   "id": "06aacc2f-b1d9-4ace-abf4-75c6be68318a",
   "metadata": {},
   "outputs": [],
   "source": []
  }
 ],
 "metadata": {
  "kernelspec": {
   "display_name": "Python 3 (ipykernel)",
   "language": "python",
   "name": "python3"
  },
  "language_info": {
   "codemirror_mode": {
    "name": "ipython",
    "version": 3
   },
   "file_extension": ".py",
   "mimetype": "text/x-python",
   "name": "python",
   "nbconvert_exporter": "python",
   "pygments_lexer": "ipython3",
   "version": "3.11.4"
  }
 },
 "nbformat": 4,
 "nbformat_minor": 5
}
